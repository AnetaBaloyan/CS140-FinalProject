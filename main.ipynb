{
 "cells": [
  {
   "cell_type": "code",
   "execution_count": 1,
   "metadata": {},
   "outputs": [],
   "source": [
    "import numpy as np\n",
    "import math\n",
    "import matplotlib.pyplot as plt"
   ]
  },
  {
   "cell_type": "code",
   "execution_count": 295,
   "metadata": {},
   "outputs": [],
   "source": [
    "class Spring():\n",
    "    def __init__(self, k: float=1):\n",
    "        self.__k = k\n",
    "    \n",
    "    def get_k(self):\n",
    "        return self.__k\n",
    "    \n",
    "    def __set_k(self, k):\n",
    "        self.__k = k\n",
    "    \n",
    "    def move(self, t0: float, dt: float, x0: float, v0: float=0, t1: float=None, m: float=1, plot: bool=False):\n",
    "        omega = math.sqrt(self.__k / m)\n",
    "        A = x0\n",
    "        B = v0 / omega\n",
    "#         print(f'Freq: {omega/(2*np.pi)} Hz')\n",
    "        \n",
    "        if t1 is None:\n",
    "            t1 = t0 + 100 * dt\n",
    "            \n",
    "        def __move(A, B, omega, t):\n",
    "            return A*math.cos(omega*t) + B*math.sin(omega*t)\n",
    "        \n",
    "        x = []\n",
    "        times = np.arange(t0, t1, dt, dtype=float)\n",
    "        for t in times:\n",
    "            x.append(__move(A, B, omega, t))\n",
    "            \n",
    "        if plot:\n",
    "            fig = plt.figure(figsize=(10, 4))\n",
    "            plt.plot(times, x)\n",
    "            \n",
    "        return np.array(x)\n",
    "    \n",
    "    def inSeries(self, that):\n",
    "        k1 = self.__k\n",
    "        k2 = that.get_k()\n",
    "        new_k = 1 / ((1/k1) + (1/k2))\n",
    "        \n",
    "        return Spring(new_k)\n",
    "    \n",
    "    def inParallel(self, that):\n",
    "        k1 = self.__k\n",
    "        k2 = that.get_k()\n",
    "        new_k = k1 + k2\n",
    "        \n",
    "        return Spring(new_k)\n",
    "    \n",
    "    \n",
    "class SpringArray():\n",
    "    def equivalentSpring(self, springExpr: str, springs: list=None):\n",
    "        stack = []\n",
    "        for i in springExpr:\n",
    "            if i in '[{':\n",
    "                stack.append(i)\n",
    "            elif i == ']':\n",
    "                subsprings = []\n",
    "                j = stack.pop()\n",
    "                \n",
    "                while j != '[':\n",
    "                    subsprings.append(j)\n",
    "                    j = stack.pop()\n",
    "                    \n",
    "                if subsprings:\n",
    "                    resulting_spring = subsprings.pop(0)\n",
    "                    if subsprings:\n",
    "                        for spring in subsprings:\n",
    "                            resulting_spring = resulting_spring.inParallel(spring)\n",
    "                else:\n",
    "                    if springs is not None:\n",
    "                        try:\n",
    "                            resulting_spring = springs.pop(0)\n",
    "                        except Exception as e:\n",
    "                            raise ValueError('Not enough Springs were passed.')\n",
    "                    else:\n",
    "                        resulting_spring = Spring()\n",
    "                    \n",
    "                stack.append(resulting_spring)\n",
    "            elif i == '}':\n",
    "                subsprings = []\n",
    "                j = stack.pop()\n",
    "                resulting_spring = None\n",
    "                \n",
    "                while j != '{':\n",
    "                    subsprings.append(j)\n",
    "                    j = stack.pop()\n",
    "                    \n",
    "                if subsprings:\n",
    "                    resulting_spring = subsprings.pop(0)\n",
    "                    if subsprings:\n",
    "                        for spring in subsprings:\n",
    "                            resulting_spring = resulting_spring.inSeries(spring)\n",
    "                else:\n",
    "                    if springs is not None:\n",
    "                        try:\n",
    "                            resulting_spring = springs.pop(0)\n",
    "                        except Exception as e:\n",
    "                            raise ValueError('Not enough Springs were passed.')\n",
    "                if resulting_spring:    \n",
    "                    stack.append(resulting_spring)\n",
    "                \n",
    "        resulting_spring = stack.pop()\n",
    "        \n",
    "        if stack:\n",
    "            raise ValueError('Unbalanced expression was passed! Please pass a correct spring expression.')\n",
    "            \n",
    "        return resulting_spring   \n",
    "    \n",
    "class Converter():\n",
    "    def connect(self, number: str):\n",
    "        if len(number) != 8:\n",
    "            raise ValueError('You must pass an 8-bit number.')\n",
    "            \n",
    "        self.springs = []\n",
    "        for i, k in zip(number[::-1], range(1, 9)):\n",
    "            if int(i):\n",
    "                self.springs.append(Spring(k**2*np.pi**2))\n",
    "    \n",
    "    def move(self):\n",
    "        self.x = 0.\n",
    "        for s in self.springs:\n",
    "            self.x += s.move(0, 0.1, 10)\n",
    "    \n",
    "    def calculate_amplitudes(self):\n",
    "        freqs = np.fft.rfftfreq(100, d=0.1)\n",
    "        peaks = np.fft.rfft(self.x, n=100)\n",
    "        plt.stem(freqs, abs(peaks), markerfmt=\" \", basefmt=\" \")        \n",
    "        self.amplitudes = freqs[np.where(peaks > 1)] * 2*np.pi\n",
    "        \n",
    "    def get_decimal(self):\n",
    "        ks = self.amplitudes / np.pi - 1\n",
    "        decimal = sum([2**k for k in ks])\n",
    "        \n",
    "        return decimal"
   ]
  },
  {
   "cell_type": "code",
   "execution_count": 297,
   "metadata": {},
   "outputs": [
    {
     "data": {
      "text/plain": [
       "2.0"
      ]
     },
     "execution_count": 297,
     "metadata": {},
     "output_type": "execute_result"
    },
    {
     "data": {
      "image/png": "[encoded data removed]",
      "text/plain": [
       "<Figure size 432x288 with 1 Axes>"
      ]
     },
     "metadata": {
      "needs_background": "light"
     },
     "output_type": "display_data"
    }
   ],
   "source": [
    "c = Converter()\n",
    "c.connect('00000010')\n",
    "c.move()\n",
    "c.calculate_amplitudes()\n",
    "c.get_decimal()"
   ]
  },
  {
   "cell_type": "code",
   "execution_count": 298,
   "metadata": {},
   "outputs": [
    {
     "data": {
      "text/plain": [
       "18.0"
      ]
     },
     "execution_count": 298,
     "metadata": {},
     "output_type": "execute_result"
    },
    {
     "data": {
      "image/png": "[encoded data removed]",
      "text/plain": [
       "<Figure size 432x288 with 1 Axes>"
      ]
     },
     "metadata": {
      "needs_background": "light"
     },
     "output_type": "display_data"
    }
   ],
   "source": [
    "c.connect('00010010')\n",
    "c.move()\n",
    "c.calculate_amplitudes()\n",
    "c.get_decimal()"
   ]
  },
  {
   "cell_type": "code",
   "execution_count": 299,
   "metadata": {},
   "outputs": [
    {
     "data": {
      "text/plain": [
       "58.0"
      ]
     },
     "execution_count": 299,
     "metadata": {},
     "output_type": "execute_result"
    },
    {
     "data": {
      "image/png": "[encoded data removed]",
      "text/plain": [
       "<Figure size 432x288 with 1 Axes>"
      ]
     },
     "metadata": {
      "needs_background": "light"
     },
     "output_type": "display_data"
    }
   ],
   "source": [
    "c.connect('00111010')\n",
    "c.move()\n",
    "c.calculate_amplitudes()\n",
    "c.get_decimal()"
   ]
  },
  {
   "cell_type": "code",
   "execution_count": 300,
   "metadata": {},
   "outputs": [
    {
     "data": {
      "text/plain": [
       "146.0"
      ]
     },
     "execution_count": 300,
     "metadata": {},
     "output_type": "execute_result"
    },
    {
     "data": {
      "image/png": "[encoded data removed]",
      "text/plain": [
       "<Figure size 432x288 with 1 Axes>"
      ]
     },
     "metadata": {
      "needs_background": "light"
     },
     "output_type": "display_data"
    }
   ],
   "source": [
    "c.connect('10010010')\n",
    "c.move()\n",
    "c.calculate_amplitudes()\n",
    "c.get_decimal()"
   ]
  },
  {
   "cell_type": "code",
   "execution_count": 301,
   "metadata": {},
   "outputs": [
    {
     "data": {
      "text/plain": [
       "255.0"
      ]
     },
     "execution_count": 301,
     "metadata": {},
     "output_type": "execute_result"
    },
    {
     "data": {
      "image/png": "[encoded data removed]",
      "text/plain": [
       "<Figure size 432x288 with 1 Axes>"
      ]
     },
     "metadata": {
      "needs_background": "light"
     },
     "output_type": "display_data"
    }
   ],
   "source": [
    "c.connect('11111111')\n",
    "c.move()\n",
    "c.calculate_amplitudes()\n",
    "c.get_decimal()"
   ]
  },
  {
   "cell_type": "code",
   "execution_count": 303,
   "metadata": {},
   "outputs": [
    {
     "data": {
      "text/plain": [
       "128.0"
      ]
     },
     "execution_count": 303,
     "metadata": {},
     "output_type": "execute_result"
    },
    {
     "data": {
      "image/png": "[encoded data removed]",
      "text/plain": [
       "<Figure size 432x288 with 1 Axes>"
      ]
     },
     "metadata": {
      "needs_background": "light"
     },
     "output_type": "display_data"
    }
   ],
   "source": [
    "c.connect('10000000')\n",
    "c.move()\n",
    "c.calculate_amplitudes()\n",
    "c.get_decimal()"
   ]
  },
  {
   "cell_type": "code",
   "execution_count": null,
   "metadata": {},
   "outputs": [],
   "source": []
  }
 ],
 "metadata": {
  "kernelspec": {
   "display_name": "Python 3",
   "language": "python",
   "name": "python3"
  },
  "language_info": {
   "codemirror_mode": {
    "name": "ipython",
    "version": 3
   },
   "file_extension": ".py",
   "mimetype": "text/x-python",
   "name": "python",
   "nbconvert_exporter": "python",
   "pygments_lexer": "ipython3",
   "version": "3.7.4"
  }
 },
 "nbformat": 4,
 "nbformat_minor": 5
}
